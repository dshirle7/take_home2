{
 "cells": [
  {
   "cell_type": "markdown",
   "metadata": {},
   "source": [
    "<h1>Take Home Challenge 2: Relax, Inc.</h1>\n",
    "<h2>Springboard Data Science Career Track</h2>\n",
    "\n",
    "My responses labeled"
   ]
  },
  {
   "cell_type": "markdown",
   "metadata": {},
   "source": [
    "<h3>Data description</h3>\n",
    "The data has the following two tables:\n",
    "\n",
    "1. A user table (\"takehome_users\") with data on 12,000 users who signed up for the product in the last two years. This table inclues:\n",
    "\n",
    "<ul>\n",
    "<li><b>name:</b> the user's name</li>\n",
    "<li><b>object_id:</b> the user's id</li>\n",
    "<li><b>email:</b> email address</li>\n",
    "<li><b>creation_source:</b> how their account was created. This takes on one of 5 values:</li>\n",
    "<ul>\n",
    "<li><b>PERSONAL_PROJECTS:</b> invited to join another user's personal workspace</li>\n",
    "<li><b>GUEST_INVITE:</b> invited to an organization as a guest (limited permissions)</li>\n",
    "<li><b>ORG_INVITE:</b> invited to an organization (as a full member)</li>\n",
    "<li><b>SIGNUP:</b> signed up via the website</li>\n",
    "<li><b>SIGNUP_GOOGLE_AUTH:</b> signed up using Google Authentication (using a Google email account for their login id)</li>\n",
    "</ul>\n",
    "<li><b>creation_time:</b> when they created their account</li>\n",
    "<li><b>last_session_creation_time:</b> unix timestamp of last login</li>\n",
    "<li><b>opted_in_to_mailing_list:</b> whether they have opted into receiving marketing emails</li>\n",
    "<li><b>enabled_for_marketing_drip:</b> whether they are on the regular marketing email drip</li>\n",
    "<li><b>org_id:</b> the organization (group of users) they belong to</li>\n",
    "<li><b>invited_by_user_id:</b> which user invited them to join (if applicable)</li>\n",
    "</ul>\n",
    "\n",
    "2. A usage summary table (\"takehome_user_engagement\") that has a row for each day that a user logged into the product."
   ]
  },
  {
   "cell_type": "markdown",
   "metadata": {},
   "source": [
    "Defining an \"adopted user\" as a user who <i>has logged into the product on three separate days in at least one seven-day period</i>, <b>identify which factors predict future user adoption.</b>\n",
    "\n",
    "We suggest spending 1-2 hours on this, but you're welcome to spend more or less. Please send us a brief writeup of your findings (the more concise, the better no—more than one page), along with any summary tables, graphs, code, or queries that can help us understand your approach. Please note any factors you considered or investigation you did, even if they did not pan out. Feel free to identify any further research or data you think would be valuable."
   ]
  },
  {
   "cell_type": "code",
   "execution_count": 1,
   "metadata": {},
   "outputs": [
    {
     "data": {
      "text/html": [
       "<div>\n",
       "<style scoped>\n",
       "    .dataframe tbody tr th:only-of-type {\n",
       "        vertical-align: middle;\n",
       "    }\n",
       "\n",
       "    .dataframe tbody tr th {\n",
       "        vertical-align: top;\n",
       "    }\n",
       "\n",
       "    .dataframe thead th {\n",
       "        text-align: right;\n",
       "    }\n",
       "</style>\n",
       "<table border=\"1\" class=\"dataframe\">\n",
       "  <thead>\n",
       "    <tr style=\"text-align: right;\">\n",
       "      <th></th>\n",
       "      <th>object_id</th>\n",
       "      <th>creation_time</th>\n",
       "      <th>name</th>\n",
       "      <th>email</th>\n",
       "      <th>creation_source</th>\n",
       "      <th>last_session_creation_time</th>\n",
       "      <th>opted_in_to_mailing_list</th>\n",
       "      <th>enabled_for_marketing_drip</th>\n",
       "      <th>org_id</th>\n",
       "      <th>invited_by_user_id</th>\n",
       "    </tr>\n",
       "  </thead>\n",
       "  <tbody>\n",
       "    <tr>\n",
       "      <th>0</th>\n",
       "      <td>1</td>\n",
       "      <td>2014-04-22 03:53:30</td>\n",
       "      <td>Clausen August</td>\n",
       "      <td>AugustCClausen@yahoo.com</td>\n",
       "      <td>GUEST_INVITE</td>\n",
       "      <td>1.398139e+09</td>\n",
       "      <td>1</td>\n",
       "      <td>0</td>\n",
       "      <td>11</td>\n",
       "      <td>10803.0</td>\n",
       "    </tr>\n",
       "    <tr>\n",
       "      <th>1</th>\n",
       "      <td>2</td>\n",
       "      <td>2013-11-15 03:45:04</td>\n",
       "      <td>Poole Matthew</td>\n",
       "      <td>MatthewPoole@gustr.com</td>\n",
       "      <td>ORG_INVITE</td>\n",
       "      <td>1.396238e+09</td>\n",
       "      <td>0</td>\n",
       "      <td>0</td>\n",
       "      <td>1</td>\n",
       "      <td>316.0</td>\n",
       "    </tr>\n",
       "    <tr>\n",
       "      <th>2</th>\n",
       "      <td>3</td>\n",
       "      <td>2013-03-19 23:14:52</td>\n",
       "      <td>Bottrill Mitchell</td>\n",
       "      <td>MitchellBottrill@gustr.com</td>\n",
       "      <td>ORG_INVITE</td>\n",
       "      <td>1.363735e+09</td>\n",
       "      <td>0</td>\n",
       "      <td>0</td>\n",
       "      <td>94</td>\n",
       "      <td>1525.0</td>\n",
       "    </tr>\n",
       "    <tr>\n",
       "      <th>3</th>\n",
       "      <td>4</td>\n",
       "      <td>2013-05-21 08:09:28</td>\n",
       "      <td>Clausen Nicklas</td>\n",
       "      <td>NicklasSClausen@yahoo.com</td>\n",
       "      <td>GUEST_INVITE</td>\n",
       "      <td>1.369210e+09</td>\n",
       "      <td>0</td>\n",
       "      <td>0</td>\n",
       "      <td>1</td>\n",
       "      <td>5151.0</td>\n",
       "    </tr>\n",
       "    <tr>\n",
       "      <th>4</th>\n",
       "      <td>5</td>\n",
       "      <td>2013-01-17 10:14:20</td>\n",
       "      <td>Raw Grace</td>\n",
       "      <td>GraceRaw@yahoo.com</td>\n",
       "      <td>GUEST_INVITE</td>\n",
       "      <td>1.358850e+09</td>\n",
       "      <td>0</td>\n",
       "      <td>0</td>\n",
       "      <td>193</td>\n",
       "      <td>5240.0</td>\n",
       "    </tr>\n",
       "  </tbody>\n",
       "</table>\n",
       "</div>"
      ],
      "text/plain": [
       "   object_id        creation_time               name  \\\n",
       "0          1  2014-04-22 03:53:30     Clausen August   \n",
       "1          2  2013-11-15 03:45:04      Poole Matthew   \n",
       "2          3  2013-03-19 23:14:52  Bottrill Mitchell   \n",
       "3          4  2013-05-21 08:09:28    Clausen Nicklas   \n",
       "4          5  2013-01-17 10:14:20          Raw Grace   \n",
       "\n",
       "                        email creation_source  last_session_creation_time  \\\n",
       "0    AugustCClausen@yahoo.com    GUEST_INVITE                1.398139e+09   \n",
       "1      MatthewPoole@gustr.com      ORG_INVITE                1.396238e+09   \n",
       "2  MitchellBottrill@gustr.com      ORG_INVITE                1.363735e+09   \n",
       "3   NicklasSClausen@yahoo.com    GUEST_INVITE                1.369210e+09   \n",
       "4          GraceRaw@yahoo.com    GUEST_INVITE                1.358850e+09   \n",
       "\n",
       "   opted_in_to_mailing_list  enabled_for_marketing_drip  org_id  \\\n",
       "0                         1                           0      11   \n",
       "1                         0                           0       1   \n",
       "2                         0                           0      94   \n",
       "3                         0                           0       1   \n",
       "4                         0                           0     193   \n",
       "\n",
       "   invited_by_user_id  \n",
       "0             10803.0  \n",
       "1               316.0  \n",
       "2              1525.0  \n",
       "3              5151.0  \n",
       "4              5240.0  "
      ]
     },
     "execution_count": 1,
     "metadata": {},
     "output_type": "execute_result"
    }
   ],
   "source": [
    "import pandas as pd\n",
    "import numpy as np\n",
    "\n",
    "users = pd.read_csv(\"takehome_users.csv\", encoding='latin1')\n",
    "logins = pd.read_csv(\"takehome_user_engagement.csv\")\n",
    "users.head()"
   ]
  },
  {
   "cell_type": "code",
   "execution_count": 2,
   "metadata": {},
   "outputs": [
    {
     "data": {
      "text/html": [
       "<div>\n",
       "<style scoped>\n",
       "    .dataframe tbody tr th:only-of-type {\n",
       "        vertical-align: middle;\n",
       "    }\n",
       "\n",
       "    .dataframe tbody tr th {\n",
       "        vertical-align: top;\n",
       "    }\n",
       "\n",
       "    .dataframe thead th {\n",
       "        text-align: right;\n",
       "    }\n",
       "</style>\n",
       "<table border=\"1\" class=\"dataframe\">\n",
       "  <thead>\n",
       "    <tr style=\"text-align: right;\">\n",
       "      <th></th>\n",
       "      <th>time_stamp</th>\n",
       "      <th>user_id</th>\n",
       "      <th>visited</th>\n",
       "    </tr>\n",
       "  </thead>\n",
       "  <tbody>\n",
       "    <tr>\n",
       "      <th>0</th>\n",
       "      <td>2014-04-22 03:53:30</td>\n",
       "      <td>1</td>\n",
       "      <td>1</td>\n",
       "    </tr>\n",
       "    <tr>\n",
       "      <th>1</th>\n",
       "      <td>2013-11-15 03:45:04</td>\n",
       "      <td>2</td>\n",
       "      <td>1</td>\n",
       "    </tr>\n",
       "    <tr>\n",
       "      <th>2</th>\n",
       "      <td>2013-11-29 03:45:04</td>\n",
       "      <td>2</td>\n",
       "      <td>1</td>\n",
       "    </tr>\n",
       "    <tr>\n",
       "      <th>3</th>\n",
       "      <td>2013-12-09 03:45:04</td>\n",
       "      <td>2</td>\n",
       "      <td>1</td>\n",
       "    </tr>\n",
       "    <tr>\n",
       "      <th>4</th>\n",
       "      <td>2013-12-25 03:45:04</td>\n",
       "      <td>2</td>\n",
       "      <td>1</td>\n",
       "    </tr>\n",
       "  </tbody>\n",
       "</table>\n",
       "</div>"
      ],
      "text/plain": [
       "            time_stamp  user_id  visited\n",
       "0  2014-04-22 03:53:30        1        1\n",
       "1  2013-11-15 03:45:04        2        1\n",
       "2  2013-11-29 03:45:04        2        1\n",
       "3  2013-12-09 03:45:04        2        1\n",
       "4  2013-12-25 03:45:04        2        1"
      ]
     },
     "execution_count": 2,
     "metadata": {},
     "output_type": "execute_result"
    }
   ],
   "source": [
    "logins.head()"
   ]
  },
  {
   "cell_type": "code",
   "execution_count": 3,
   "metadata": {},
   "outputs": [],
   "source": [
    "# Determine the status of users as 'adopted' or not\n",
    "# Clean up both tables first\n",
    "\n",
    "logins['time_stamp'] = pd.to_datetime(logins['time_stamp'])\n",
    "grouped = logins.groupby(['user_id'])\n",
    "\n",
    "users['user_id'] = users['object_id']\n",
    "users.drop(['object_id'], axis=1, inplace=True)\n",
    "users['adopted'] = 0"
   ]
  },
  {
   "cell_type": "code",
   "execution_count": 4,
   "metadata": {},
   "outputs": [],
   "source": [
    "# Loop over the groups\n",
    "\n",
    "for key, table in grouped:\n",
    "    # Only consider users who have logged in three times\n",
    "    if table.shape[0] < 3:\n",
    "        pass\n",
    "    else:\n",
    "        # Create a new numpy array based on the time_stamp row\n",
    "        timestamps = np.array(table['time_stamp'])\n",
    "        for i in range(len(timestamps) - 2):\n",
    "            # The login rows are ordered, so we just check to see\n",
    "            # if the row two logins ahead is within a week, make 'adopted' = 1\n",
    "            if pd.Timedelta(timestamps[i+2] - timestamps[i]) > pd.Timedelta('7 days'):\n",
    "                pass\n",
    "            else:\n",
    "                users.loc[users['user_id'] == key, 'adopted'] = 1\n",
    "                break"
   ]
  },
  {
   "cell_type": "code",
   "execution_count": 5,
   "metadata": {},
   "outputs": [
    {
     "data": {
      "text/html": [
       "<div>\n",
       "<style scoped>\n",
       "    .dataframe tbody tr th:only-of-type {\n",
       "        vertical-align: middle;\n",
       "    }\n",
       "\n",
       "    .dataframe tbody tr th {\n",
       "        vertical-align: top;\n",
       "    }\n",
       "\n",
       "    .dataframe thead th {\n",
       "        text-align: right;\n",
       "    }\n",
       "</style>\n",
       "<table border=\"1\" class=\"dataframe\">\n",
       "  <thead>\n",
       "    <tr style=\"text-align: right;\">\n",
       "      <th></th>\n",
       "      <th>last_session_creation_time</th>\n",
       "      <th>opted_in_to_mailing_list</th>\n",
       "      <th>enabled_for_marketing_drip</th>\n",
       "      <th>org_id</th>\n",
       "      <th>invited_by_user_id</th>\n",
       "      <th>adopted</th>\n",
       "      <th>creation_year</th>\n",
       "      <th>creation_month</th>\n",
       "      <th>creation_day</th>\n",
       "      <th>creation_hour</th>\n",
       "      <th>creation_source_ORG_INVITE</th>\n",
       "      <th>creation_source_PERSONAL_PROJECTS</th>\n",
       "      <th>creation_source_SIGNUP</th>\n",
       "      <th>creation_source_SIGNUP_GOOGLE_AUTH</th>\n",
       "    </tr>\n",
       "    <tr>\n",
       "      <th>user_id</th>\n",
       "      <th></th>\n",
       "      <th></th>\n",
       "      <th></th>\n",
       "      <th></th>\n",
       "      <th></th>\n",
       "      <th></th>\n",
       "      <th></th>\n",
       "      <th></th>\n",
       "      <th></th>\n",
       "      <th></th>\n",
       "      <th></th>\n",
       "      <th></th>\n",
       "      <th></th>\n",
       "      <th></th>\n",
       "    </tr>\n",
       "  </thead>\n",
       "  <tbody>\n",
       "    <tr>\n",
       "      <th>1</th>\n",
       "      <td>1.398139e+09</td>\n",
       "      <td>1</td>\n",
       "      <td>0</td>\n",
       "      <td>11</td>\n",
       "      <td>10803.0</td>\n",
       "      <td>0</td>\n",
       "      <td>2014</td>\n",
       "      <td>4</td>\n",
       "      <td>22</td>\n",
       "      <td>3</td>\n",
       "      <td>0</td>\n",
       "      <td>0</td>\n",
       "      <td>0</td>\n",
       "      <td>0</td>\n",
       "    </tr>\n",
       "    <tr>\n",
       "      <th>2</th>\n",
       "      <td>1.396238e+09</td>\n",
       "      <td>0</td>\n",
       "      <td>0</td>\n",
       "      <td>1</td>\n",
       "      <td>316.0</td>\n",
       "      <td>1</td>\n",
       "      <td>2013</td>\n",
       "      <td>11</td>\n",
       "      <td>15</td>\n",
       "      <td>3</td>\n",
       "      <td>1</td>\n",
       "      <td>0</td>\n",
       "      <td>0</td>\n",
       "      <td>0</td>\n",
       "    </tr>\n",
       "    <tr>\n",
       "      <th>3</th>\n",
       "      <td>1.363735e+09</td>\n",
       "      <td>0</td>\n",
       "      <td>0</td>\n",
       "      <td>94</td>\n",
       "      <td>1525.0</td>\n",
       "      <td>0</td>\n",
       "      <td>2013</td>\n",
       "      <td>3</td>\n",
       "      <td>19</td>\n",
       "      <td>23</td>\n",
       "      <td>1</td>\n",
       "      <td>0</td>\n",
       "      <td>0</td>\n",
       "      <td>0</td>\n",
       "    </tr>\n",
       "    <tr>\n",
       "      <th>4</th>\n",
       "      <td>1.369210e+09</td>\n",
       "      <td>0</td>\n",
       "      <td>0</td>\n",
       "      <td>1</td>\n",
       "      <td>5151.0</td>\n",
       "      <td>0</td>\n",
       "      <td>2013</td>\n",
       "      <td>5</td>\n",
       "      <td>21</td>\n",
       "      <td>8</td>\n",
       "      <td>0</td>\n",
       "      <td>0</td>\n",
       "      <td>0</td>\n",
       "      <td>0</td>\n",
       "    </tr>\n",
       "    <tr>\n",
       "      <th>5</th>\n",
       "      <td>1.358850e+09</td>\n",
       "      <td>0</td>\n",
       "      <td>0</td>\n",
       "      <td>193</td>\n",
       "      <td>5240.0</td>\n",
       "      <td>0</td>\n",
       "      <td>2013</td>\n",
       "      <td>1</td>\n",
       "      <td>17</td>\n",
       "      <td>10</td>\n",
       "      <td>0</td>\n",
       "      <td>0</td>\n",
       "      <td>0</td>\n",
       "      <td>0</td>\n",
       "    </tr>\n",
       "  </tbody>\n",
       "</table>\n",
       "</div>"
      ],
      "text/plain": [
       "         last_session_creation_time  opted_in_to_mailing_list  \\\n",
       "user_id                                                         \n",
       "1                      1.398139e+09                         1   \n",
       "2                      1.396238e+09                         0   \n",
       "3                      1.363735e+09                         0   \n",
       "4                      1.369210e+09                         0   \n",
       "5                      1.358850e+09                         0   \n",
       "\n",
       "         enabled_for_marketing_drip  org_id  invited_by_user_id  adopted  \\\n",
       "user_id                                                                    \n",
       "1                                 0      11             10803.0        0   \n",
       "2                                 0       1               316.0        1   \n",
       "3                                 0      94              1525.0        0   \n",
       "4                                 0       1              5151.0        0   \n",
       "5                                 0     193              5240.0        0   \n",
       "\n",
       "         creation_year  creation_month  creation_day  creation_hour  \\\n",
       "user_id                                                               \n",
       "1                 2014               4            22              3   \n",
       "2                 2013              11            15              3   \n",
       "3                 2013               3            19             23   \n",
       "4                 2013               5            21              8   \n",
       "5                 2013               1            17             10   \n",
       "\n",
       "         creation_source_ORG_INVITE  creation_source_PERSONAL_PROJECTS  \\\n",
       "user_id                                                                  \n",
       "1                                 0                                  0   \n",
       "2                                 1                                  0   \n",
       "3                                 1                                  0   \n",
       "4                                 0                                  0   \n",
       "5                                 0                                  0   \n",
       "\n",
       "         creation_source_SIGNUP  creation_source_SIGNUP_GOOGLE_AUTH  \n",
       "user_id                                                              \n",
       "1                             0                                   0  \n",
       "2                             0                                   0  \n",
       "3                             0                                   0  \n",
       "4                             0                                   0  \n",
       "5                             0                                   0  "
      ]
     },
     "execution_count": 5,
     "metadata": {},
     "output_type": "execute_result"
    }
   ],
   "source": [
    "# Clean the users table to prepare it for a ML model\n",
    "users.set_index('user_id', inplace=True)\n",
    "creation_times = pd.to_datetime(users['creation_time'])\n",
    "users['creation_year'] = [entry.year for entry in creation_times]\n",
    "users['creation_month'] = [entry.month for entry in creation_times]\n",
    "users['creation_day'] = [entry.day for entry in creation_times]\n",
    "users['creation_hour'] = [entry.hour for entry in creation_times]\n",
    "drops = ['creation_time', 'name', 'email']\n",
    "users.drop(drops, axis=1, inplace=True)\n",
    "users = pd.get_dummies(users, prefix=['creation_source'], columns=['creation_source'], drop_first=True)\n",
    "users.head()"
   ]
  },
  {
   "cell_type": "code",
   "execution_count": 6,
   "metadata": {},
   "outputs": [
    {
     "data": {
      "text/plain": [
       "last_session_creation_time            3177\n",
       "opted_in_to_mailing_list                 0\n",
       "enabled_for_marketing_drip               0\n",
       "org_id                                   0\n",
       "invited_by_user_id                    5583\n",
       "adopted                                  0\n",
       "creation_year                            0\n",
       "creation_month                           0\n",
       "creation_day                             0\n",
       "creation_hour                            0\n",
       "creation_source_ORG_INVITE               0\n",
       "creation_source_PERSONAL_PROJECTS        0\n",
       "creation_source_SIGNUP                   0\n",
       "creation_source_SIGNUP_GOOGLE_AUTH       0\n",
       "dtype: int64"
      ]
     },
     "execution_count": 6,
     "metadata": {},
     "output_type": "execute_result"
    }
   ],
   "source": [
    "users.isnull().sum()"
   ]
  },
  {
   "cell_type": "code",
   "execution_count": 7,
   "metadata": {},
   "outputs": [
    {
     "data": {
      "text/plain": [
       "last_session_creation_time            0\n",
       "opted_in_to_mailing_list              0\n",
       "enabled_for_marketing_drip            0\n",
       "org_id                                0\n",
       "invited_by_user_id                    0\n",
       "adopted                               0\n",
       "creation_year                         0\n",
       "creation_month                        0\n",
       "creation_day                          0\n",
       "creation_hour                         0\n",
       "creation_source_ORG_INVITE            0\n",
       "creation_source_PERSONAL_PROJECTS     0\n",
       "creation_source_SIGNUP                0\n",
       "creation_source_SIGNUP_GOOGLE_AUTH    0\n",
       "dtype: int64"
      ]
     },
     "execution_count": 7,
     "metadata": {},
     "output_type": "execute_result"
    }
   ],
   "source": [
    "# Lots of null values. Let's fill them in with a placeholder.\n",
    "\n",
    "users.fillna(-2, inplace=True)\n",
    "users.isnull().sum()"
   ]
  },
  {
   "cell_type": "code",
   "execution_count": 8,
   "metadata": {},
   "outputs": [
    {
     "data": {
      "text/plain": [
       "0    10344\n",
       "1     1656\n",
       "Name: adopted, dtype: int64"
      ]
     },
     "execution_count": 8,
     "metadata": {},
     "output_type": "execute_result"
    }
   ],
   "source": [
    "# Determine the proportion of users who adopted the platform\n",
    "users['adopted'].value_counts()"
   ]
  },
  {
   "cell_type": "code",
   "execution_count": 9,
   "metadata": {},
   "outputs": [
    {
     "name": "stdout",
     "output_type": "stream",
     "text": [
      "13.8% of users adopted the platform.\n"
     ]
    }
   ],
   "source": [
    "pct_adopted = round(1656/(10344+1656) * 100, 2)\n",
    "print(f'{pct_adopted}% of users adopted the platform.')"
   ]
  },
  {
   "cell_type": "code",
   "execution_count": 10,
   "metadata": {},
   "outputs": [],
   "source": [
    "from sklearn.model_selection import train_test_split\n",
    "from sklearn.linear_model import LogisticRegressionCV\n",
    "import numpy as np\n",
    "\n",
    "np.random.seed(0)\n",
    "\n",
    "target = users['adopted']\n",
    "features = users.drop('adopted', axis=1)\n",
    "\n",
    "X_train, X_test, y_train, y_test = train_test_split(features, target)"
   ]
  },
  {
   "cell_type": "code",
   "execution_count": 11,
   "metadata": {},
   "outputs": [
    {
     "data": {
      "text/plain": [
       "0.588"
      ]
     },
     "execution_count": 11,
     "metadata": {},
     "output_type": "execute_result"
    }
   ],
   "source": [
    "lr = LogisticRegressionCV(solver='liblinear', cv=10)\n",
    "lr.fit(X_train, y_train)\n",
    "lr.score(X_test, y_test)"
   ]
  },
  {
   "cell_type": "code",
   "execution_count": 12,
   "metadata": {},
   "outputs": [
    {
     "name": "stdout",
     "output_type": "stream",
     "text": [
      "[('last_session_creation_time', -0.0), ('opted_in_to_mailing_list', -0.0), ('enabled_for_marketing_drip', -0.0), ('org_id', -0.0), ('invited_by_user_id', -0.0), ('creation_year', -0.0), ('creation_month', -0.0), ('creation_day', -0.0), ('creation_hour', -0.0), ('creation_source_ORG_INVITE', -0.0), ('creation_source_PERSONAL_PROJECTS', -0.0), ('creation_source_SIGNUP', -0.0), ('creation_source_SIGNUP_GOOGLE_AUTH', -0.0)]\n"
     ]
    }
   ],
   "source": [
    "cols = [col for col in features.columns]\n",
    "coefs = [round(coef, 2) for coef in lr.coef_[0]]\n",
    "coefficients = zip(cols, coefs)\n",
    "\n",
    "print(list(coefficients))"
   ]
  },
  {
   "cell_type": "code",
   "execution_count": 13,
   "metadata": {},
   "outputs": [
    {
     "name": "stdout",
     "output_type": "stream",
     "text": [
      "[[1764  828]\n",
      " [ 408    0]]\n"
     ]
    }
   ],
   "source": [
    "from sklearn.metrics import confusion_matrix\n",
    "\n",
    "y_pred = lr.predict(X_test)\n",
    "cm = confusion_matrix(y_test, y_pred)\n",
    "print(cm)"
   ]
  },
  {
   "cell_type": "markdown",
   "metadata": {},
   "source": [
    "<b>(Me)</b> Our first model is indiscriminately classifying all users as non-adopters. It does try to classify some as \"adopted\", but they literally all of the ones it chooses are non-adopters. Let's try XGB."
   ]
  },
  {
   "cell_type": "code",
   "execution_count": 14,
   "metadata": {},
   "outputs": [
    {
     "data": {
      "text/plain": [
       "0.9646666666666667"
      ]
     },
     "execution_count": 14,
     "metadata": {},
     "output_type": "execute_result"
    }
   ],
   "source": [
    "from xgboost.sklearn import XGBClassifier\n",
    "from sklearn.model_selection import GridSearchCV\n",
    "\n",
    "xgb = XGBClassifier()\n",
    "\n",
    "param_grid = {'max_depth': [2, 3, 4, 5],\n",
    "              'learning_rate': [0.5, 0.1, 0.2],\n",
    "              'n_estimators': [30, 100, 300]}\n",
    "\n",
    "xgb_grid = GridSearchCV(xgb, param_grid=param_grid, cv=3)\n",
    "\n",
    "xgb_grid.fit(X_train, y_train)\n",
    "xgb_grid.score(X_test, y_test)"
   ]
  },
  {
   "cell_type": "code",
   "execution_count": 15,
   "metadata": {},
   "outputs": [
    {
     "data": {
      "text/plain": [
       "{'learning_rate': 0.5, 'max_depth': 2, 'n_estimators': 300}"
      ]
     },
     "execution_count": 15,
     "metadata": {},
     "output_type": "execute_result"
    }
   ],
   "source": [
    "xgb_grid.best_params_"
   ]
  },
  {
   "cell_type": "code",
   "execution_count": 16,
   "metadata": {},
   "outputs": [
    {
     "name": "stdout",
     "output_type": "stream",
     "text": [
      "[('last_session_creation_time', 0.29), ('opted_in_to_mailing_list', 0.03), ('enabled_for_marketing_drip', 0.03), ('org_id', 0.03), ('invited_by_user_id', 0.03), ('creation_year', 0.34), ('creation_month', 0.11), ('creation_day', 0.04), ('creation_hour', 0.02), ('creation_source_ORG_INVITE', 0.02), ('creation_source_PERSONAL_PROJECTS', 0.03), ('creation_source_SIGNUP', 0.04), ('creation_source_SIGNUP_GOOGLE_AUTH', 0.02)]\n"
     ]
    }
   ],
   "source": [
    "xgb = XGBClassifier(learning_rate=0.5, max_depth=2, n_estimators=300)\n",
    "xgb.fit(X_train, y_train)\n",
    "\n",
    "cols = [col for col in features.columns]\n",
    "weights = [round(weight, 2) for weight in xgb.feature_importances_]\n",
    "importances = zip(cols, weights)\n",
    "\n",
    "print(list(importances))"
   ]
  },
  {
   "cell_type": "code",
   "execution_count": 17,
   "metadata": {},
   "outputs": [
    {
     "name": "stdout",
     "output_type": "stream",
     "text": [
      "[[2564   28]\n",
      " [  78  330]]\n"
     ]
    }
   ],
   "source": [
    "y_pred2 = xgb.predict(X_test)\n",
    "cm2 = confusion_matrix(y_test, y_pred2)\n",
    "print(cm2)"
   ]
  },
  {
   "cell_type": "markdown",
   "metadata": {},
   "source": [
    "<b>(Me)</b> We see a marked increase in accuracy using the XGB Classifier that has had its hyperparameters tuned. The model also tells us that the most important features to determining whether a user will adopt is their last session time and the year the user created the account. Likely, it's found that users who adopted are <i>still using the site,</i> and thus their last session was recent. Additionally, I would assume that creation year is important because the older your account, the more time you have to eventually adopt the site according to our three-logins-per-week criterion. This leaves us with a model that can accurately classify the current data, but might have difficulty dealing with new data due to the significant time-based nature of the model. The model also still has a little difficulty with sensitivity.\n",
    "\n",
    "The next steps would be:\n",
    "\n",
    "1. To tune it even further by creating a more sophisticated approach to missing values; perhaps imputation rather than replacement.\n",
    "\n",
    "2. To force it to use more of the other features by removing the two most important ones or by forcing its max_depth above two steps."
   ]
  },
  {
   "cell_type": "code",
   "execution_count": null,
   "metadata": {},
   "outputs": [],
   "source": []
  }
 ],
 "metadata": {
  "kernelspec": {
   "display_name": "Python 3",
   "language": "python",
   "name": "python3"
  },
  "language_info": {
   "codemirror_mode": {
    "name": "ipython",
    "version": 3
   },
   "file_extension": ".py",
   "mimetype": "text/x-python",
   "name": "python",
   "nbconvert_exporter": "python",
   "pygments_lexer": "ipython3",
   "version": "3.7.2"
  }
 },
 "nbformat": 4,
 "nbformat_minor": 2
}
